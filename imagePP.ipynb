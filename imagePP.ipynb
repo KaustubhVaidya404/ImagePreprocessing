{
  "nbformat": 4,
  "nbformat_minor": 0,
  "metadata": {
    "colab": {
      "provenance": [],
      "toc_visible": true,
      "gpuType": "T4",
      "authorship_tag": "ABX9TyOqo/+JLd72ic3jISpXQdUV",
      "include_colab_link": true
    },
    "kernelspec": {
      "name": "python3",
      "display_name": "Python 3"
    },
    "language_info": {
      "name": "python"
    },
    "accelerator": "GPU"
  },
  "cells": [
    {
      "cell_type": "markdown",
      "metadata": {
        "id": "view-in-github",
        "colab_type": "text"
      },
      "source": [
        "<a href=\"https://colab.research.google.com/github/KaustubhVaidya404/ImagePreprocessing/blob/main/imagePP.ipynb\" target=\"_parent\"><img src=\"https://colab.research.google.com/assets/colab-badge.svg\" alt=\"Open In Colab\"/></a>"
      ]
    },
    {
      "cell_type": "code",
      "execution_count": 1,
      "metadata": {
        "id": "lsIgDZWteq1V"
      },
      "outputs": [],
      "source": [
        "import tensorflow as tf"
      ]
    },
    {
      "cell_type": "code",
      "source": [
        "print(tf.__version__)"
      ],
      "metadata": {
        "colab": {
          "base_uri": "https://localhost:8080/"
        },
        "id": "uAhPhe7XfTGz",
        "outputId": "16d653c9-2a97-4757-bf12-f830604f5a3e"
      },
      "execution_count": 2,
      "outputs": [
        {
          "output_type": "stream",
          "name": "stdout",
          "text": [
            "2.13.0\n"
          ]
        }
      ]
    },
    {
      "cell_type": "code",
      "source": [
        "dataset_url = 'http://download.tensorflow.org/example_images/flower_photos.tgz'"
      ],
      "metadata": {
        "id": "yLCqAW3MfaZh"
      },
      "execution_count": 3,
      "outputs": []
    },
    {
      "cell_type": "code",
      "source": [
        "from keras.src.utils import dataset_utils\n",
        "zip_data = tf.keras.utils.get_file(\n",
        "    origin = dataset_url,\n",
        "    fname = 'flower_photos.tgz',\n",
        "    extract = True\n",
        ")"
      ],
      "metadata": {
        "colab": {
          "base_uri": "https://localhost:8080/"
        },
        "id": "TGqdy-6OgQba",
        "outputId": "975577dd-02cb-4401-ac80-90a2d24cbf29"
      },
      "execution_count": 4,
      "outputs": [
        {
          "output_type": "stream",
          "name": "stdout",
          "text": [
            "Downloading data from http://download.tensorflow.org/example_images/flower_photos.tgz\n",
            "228813984/228813984 [==============================] - 2s 0us/step\n"
          ]
        }
      ]
    },
    {
      "cell_type": "code",
      "source": [
        "import os"
      ],
      "metadata": {
        "id": "i1MfOd_ThICM"
      },
      "execution_count": 5,
      "outputs": []
    },
    {
      "cell_type": "code",
      "source": [
        "base_dir = os.path.join(os.path.dirname(zip_data), 'flower_photos')"
      ],
      "metadata": {
        "id": "tmVdupSahgIL"
      },
      "execution_count": 6,
      "outputs": []
    },
    {
      "cell_type": "code",
      "source": [
        "data_generator = tf.keras.preprocessing.image.ImageDataGenerator(\n",
        "    rescale = 1.0/255.0,\n",
        "    validation_split = 0.2\n",
        ")"
      ],
      "metadata": {
        "id": "nF9Cn0lHiOb0"
      },
      "execution_count": 7,
      "outputs": []
    },
    {
      "cell_type": "code",
      "source": [
        "batchsize = 64"
      ],
      "metadata": {
        "id": "roJdEd7qj6hZ"
      },
      "execution_count": 8,
      "outputs": []
    },
    {
      "cell_type": "code",
      "source": [
        "training_data = data_generator.flow_from_directory(\n",
        "    base_dir,\n",
        "    target_size = (244,244),\n",
        "    batch_size = batchsize,\n",
        "    subset = 'training'\n",
        ")"
      ],
      "metadata": {
        "colab": {
          "base_uri": "https://localhost:8080/"
        },
        "id": "LZSFU5zVi1Qb",
        "outputId": "08bacd84-e7e8-4bfc-f429-d2482785c104"
      },
      "execution_count": 9,
      "outputs": [
        {
          "output_type": "stream",
          "name": "stdout",
          "text": [
            "Found 2939 images belonging to 5 classes.\n"
          ]
        }
      ]
    },
    {
      "cell_type": "code",
      "source": [
        "testing_data = data_generator.flow_from_directory(\n",
        "    base_dir,\n",
        "    target_size = (244,244),\n",
        "    batch_size = batchsize,\n",
        "    subset = 'validation'\n",
        ")"
      ],
      "metadata": {
        "colab": {
          "base_uri": "https://localhost:8080/"
        },
        "id": "eXLfk_HwkVWC",
        "outputId": "de5b5162-0b29-43b0-9e3e-f11c92ad5044"
      },
      "execution_count": 10,
      "outputs": [
        {
          "output_type": "stream",
          "name": "stdout",
          "text": [
            "Found 731 images belonging to 5 classes.\n"
          ]
        }
      ]
    },
    {
      "cell_type": "code",
      "source": [
        "training_data.class_indices"
      ],
      "metadata": {
        "colab": {
          "base_uri": "https://localhost:8080/"
        },
        "id": "oUWB-errkqr2",
        "outputId": "0d60114e-569f-46a2-c141-44c37ad7ddd2"
      },
      "execution_count": 11,
      "outputs": [
        {
          "output_type": "execute_result",
          "data": {
            "text/plain": [
              "{'daisy': 0, 'dandelion': 1, 'roses': 2, 'sunflowers': 3, 'tulips': 4}"
            ]
          },
          "metadata": {},
          "execution_count": 11
        }
      ]
    },
    {
      "cell_type": "code",
      "source": [
        "testing_data.class_indices"
      ],
      "metadata": {
        "colab": {
          "base_uri": "https://localhost:8080/"
        },
        "id": "UYBWAdkqk9ZS",
        "outputId": "dc1d7f77-7734-4b65-b5d4-4d30661781d2"
      },
      "execution_count": 12,
      "outputs": [
        {
          "output_type": "execute_result",
          "data": {
            "text/plain": [
              "{'daisy': 0, 'dandelion': 1, 'roses': 2, 'sunflowers': 3, 'tulips': 4}"
            ]
          },
          "metadata": {},
          "execution_count": 12
        }
      ]
    },
    {
      "cell_type": "code",
      "source": [
        "from keras.src.layers.attention.multi_head_attention import activation\n",
        "model = tf.keras.models.Sequential(\n",
        "    [\n",
        "      tf.keras.layers.Conv2D(\n",
        "        64,\n",
        "        (3,3),\n",
        "        activation = 'relu',\n",
        "        input_shape = (244, 244, 3)\n",
        "    ),\n",
        "      tf.keras.layers.MaxPooling2D(2,2),\n",
        "      tf.keras.layers.Conv2D(\n",
        "        64,\n",
        "        (3,3),\n",
        "        activation = 'relu',\n",
        "    ),\n",
        "      tf.keras.layers.MaxPooling2D(2,2),\n",
        "      tf.keras.layers.Conv2D(\n",
        "        64,\n",
        "        (3,3),\n",
        "        activation = 'relu',\n",
        "    ),\n",
        "      tf.keras.layers.MaxPooling2D(2,2),\n",
        "      tf.keras.layers.Flatten(),\n",
        "      tf.keras.layers.Dense(\n",
        "        512,\n",
        "        activation = 'relu'\n",
        "    ),\n",
        "      tf.keras.layers.Dense(\n",
        "          5,\n",
        "          activation = 'softmax'\n",
        "      )\n",
        "    ]\n",
        ")"
      ],
      "metadata": {
        "id": "eFDlcqHtlCNm"
      },
      "execution_count": 16,
      "outputs": []
    },
    {
      "cell_type": "code",
      "source": [
        "model.summary()"
      ],
      "metadata": {
        "colab": {
          "base_uri": "https://localhost:8080/"
        },
        "id": "JQT5QMKxoPdl",
        "outputId": "1e5376bc-b306-4d11-e6c1-8102f5c2af75"
      },
      "execution_count": 17,
      "outputs": [
        {
          "output_type": "stream",
          "name": "stdout",
          "text": [
            "Model: \"sequential\"\n",
            "_________________________________________________________________\n",
            " Layer (type)                Output Shape              Param #   \n",
            "=================================================================\n",
            " conv2d_3 (Conv2D)           (None, 242, 242, 64)      1792      \n",
            "                                                                 \n",
            " max_pooling2d_3 (MaxPoolin  (None, 121, 121, 64)      0         \n",
            " g2D)                                                            \n",
            "                                                                 \n",
            " conv2d_4 (Conv2D)           (None, 119, 119, 64)      36928     \n",
            "                                                                 \n",
            " max_pooling2d_4 (MaxPoolin  (None, 59, 59, 64)        0         \n",
            " g2D)                                                            \n",
            "                                                                 \n",
            " conv2d_5 (Conv2D)           (None, 57, 57, 64)        36928     \n",
            "                                                                 \n",
            " max_pooling2d_5 (MaxPoolin  (None, 28, 28, 64)        0         \n",
            " g2D)                                                            \n",
            "                                                                 \n",
            " flatten_1 (Flatten)         (None, 50176)             0         \n",
            "                                                                 \n",
            " dense (Dense)               (None, 512)               25690624  \n",
            "                                                                 \n",
            " dense_1 (Dense)             (None, 5)                 2565      \n",
            "                                                                 \n",
            "=================================================================\n",
            "Total params: 25768837 (98.30 MB)\n",
            "Trainable params: 25768837 (98.30 MB)\n",
            "Non-trainable params: 0 (0.00 Byte)\n",
            "_________________________________________________________________\n"
          ]
        }
      ]
    },
    {
      "cell_type": "code",
      "source": [
        "model.compile(\n",
        "    loss = 'categorical_crossentropy',\n",
        "    optimizer = 'sgd',\n",
        "    metrics = ['accuracy']\n",
        ")"
      ],
      "metadata": {
        "id": "0htp-Yu1pAxQ"
      },
      "execution_count": 24,
      "outputs": []
    },
    {
      "cell_type": "code",
      "source": [
        "training_steps = training_data.samples // batchsize\n",
        "testing_steps = testing_data.samples // batchsize"
      ],
      "metadata": {
        "id": "RY633xOKqpFS"
      },
      "execution_count": 20,
      "outputs": []
    },
    {
      "cell_type": "code",
      "source": [
        "model.fit(\n",
        "    training_data,\n",
        "    validation_data = testing_data,\n",
        "    epochs = 25,\n",
        "    steps_per_epoch = training_steps,\n",
        "    validation_steps = testing_steps,\n",
        ")"
      ],
      "metadata": {
        "colab": {
          "base_uri": "https://localhost:8080/"
        },
        "id": "QOTSWPNTpnG6",
        "outputId": "7aebef2d-39a2-40a3-8996-3deacaafe992"
      },
      "execution_count": 26,
      "outputs": [
        {
          "output_type": "stream",
          "name": "stdout",
          "text": [
            "Epoch 1/25\n",
            "45/45 [==============================] - 17s 371ms/step - loss: 0.9203 - accuracy: 0.6383 - val_loss: 1.0842 - val_accuracy: 0.5582\n",
            "Epoch 2/25\n",
            "45/45 [==============================] - 14s 309ms/step - loss: 0.8898 - accuracy: 0.6598 - val_loss: 1.0841 - val_accuracy: 0.5838\n",
            "Epoch 3/25\n",
            "45/45 [==============================] - 14s 307ms/step - loss: 0.8751 - accuracy: 0.6689 - val_loss: 1.0400 - val_accuracy: 0.5795\n",
            "Epoch 4/25\n",
            "45/45 [==============================] - 14s 306ms/step - loss: 0.8327 - accuracy: 0.6939 - val_loss: 1.0502 - val_accuracy: 0.5881\n",
            "Epoch 5/25\n",
            "45/45 [==============================] - 14s 309ms/step - loss: 0.8195 - accuracy: 0.6957 - val_loss: 1.0550 - val_accuracy: 0.5724\n",
            "Epoch 6/25\n",
            "45/45 [==============================] - 14s 307ms/step - loss: 0.8151 - accuracy: 0.6939 - val_loss: 1.0933 - val_accuracy: 0.5739\n",
            "Epoch 7/25\n",
            "45/45 [==============================] - 14s 306ms/step - loss: 0.7665 - accuracy: 0.7130 - val_loss: 1.0669 - val_accuracy: 0.5838\n",
            "Epoch 8/25\n",
            "45/45 [==============================] - 14s 301ms/step - loss: 0.7409 - accuracy: 0.7245 - val_loss: 1.0350 - val_accuracy: 0.5938\n",
            "Epoch 9/25\n",
            "45/45 [==============================] - 14s 306ms/step - loss: 0.7100 - accuracy: 0.7322 - val_loss: 1.1066 - val_accuracy: 0.5909\n",
            "Epoch 10/25\n",
            "45/45 [==============================] - 14s 319ms/step - loss: 0.7190 - accuracy: 0.7346 - val_loss: 1.1006 - val_accuracy: 0.5682\n",
            "Epoch 11/25\n",
            "45/45 [==============================] - 14s 301ms/step - loss: 0.6745 - accuracy: 0.7468 - val_loss: 1.1119 - val_accuracy: 0.5852\n",
            "Epoch 12/25\n",
            "45/45 [==============================] - 14s 305ms/step - loss: 0.6219 - accuracy: 0.7743 - val_loss: 1.1507 - val_accuracy: 0.5824\n",
            "Epoch 13/25\n",
            "45/45 [==============================] - 14s 307ms/step - loss: 0.6313 - accuracy: 0.7680 - val_loss: 1.0464 - val_accuracy: 0.6037\n",
            "Epoch 14/25\n",
            "45/45 [==============================] - 14s 307ms/step - loss: 0.5947 - accuracy: 0.7878 - val_loss: 1.0150 - val_accuracy: 0.6094\n",
            "Epoch 15/25\n",
            "45/45 [==============================] - 14s 313ms/step - loss: 0.5713 - accuracy: 0.8063 - val_loss: 1.0316 - val_accuracy: 0.6023\n",
            "Epoch 16/25\n",
            "45/45 [==============================] - 14s 310ms/step - loss: 0.5169 - accuracy: 0.8188 - val_loss: 1.1595 - val_accuracy: 0.5881\n",
            "Epoch 17/25\n",
            "45/45 [==============================] - 16s 359ms/step - loss: 0.5246 - accuracy: 0.8247 - val_loss: 1.2955 - val_accuracy: 0.5554\n",
            "Epoch 18/25\n",
            "45/45 [==============================] - 14s 309ms/step - loss: 0.4777 - accuracy: 0.8379 - val_loss: 1.0773 - val_accuracy: 0.5838\n",
            "Epoch 19/25\n",
            "45/45 [==============================] - 14s 304ms/step - loss: 0.4310 - accuracy: 0.8504 - val_loss: 1.2600 - val_accuracy: 0.5568\n",
            "Epoch 20/25\n",
            "45/45 [==============================] - 14s 311ms/step - loss: 0.3854 - accuracy: 0.8675 - val_loss: 1.2263 - val_accuracy: 0.5980\n",
            "Epoch 21/25\n",
            "45/45 [==============================] - 14s 304ms/step - loss: 0.3635 - accuracy: 0.8852 - val_loss: 1.3629 - val_accuracy: 0.5497\n",
            "Epoch 22/25\n",
            "45/45 [==============================] - 17s 370ms/step - loss: 0.3666 - accuracy: 0.8838 - val_loss: 1.1745 - val_accuracy: 0.5952\n",
            "Epoch 23/25\n",
            "45/45 [==============================] - 14s 306ms/step - loss: 0.2978 - accuracy: 0.9037 - val_loss: 1.2396 - val_accuracy: 0.5895\n",
            "Epoch 24/25\n",
            "45/45 [==============================] - 14s 310ms/step - loss: 0.3088 - accuracy: 0.9043 - val_loss: 1.1142 - val_accuracy: 0.6080\n",
            "Epoch 25/25\n",
            "45/45 [==============================] - 14s 311ms/step - loss: 0.2411 - accuracy: 0.9301 - val_loss: 1.2924 - val_accuracy: 0.5554\n"
          ]
        },
        {
          "output_type": "execute_result",
          "data": {
            "text/plain": [
              "<keras.src.callbacks.History at 0x788111bd5f30>"
            ]
          },
          "metadata": {},
          "execution_count": 26
        }
      ]
    },
    {
      "cell_type": "code",
      "source": [
        "from tensorflow.keras.preprocessing import image\n",
        "import numpy as np\n",
        "from google.colab import files\n",
        "\n",
        "uploaded_files = files.upload()\n",
        "\n",
        "for path in uploaded_files.keys():\n",
        "  input_img = image.load_img(path, target_size = (244, 244))\n",
        "  image_values = image.img_to_array(input_img)\n",
        "  dimention_corrected = np.expand_dims(image_values, axis = 0)\n",
        "  prediction = model.predict(dimention_corrected)\n",
        "  argmax_value = np.argmax(prediction)\n",
        "  print(argmax_value)"
      ],
      "metadata": {
        "colab": {
          "base_uri": "https://localhost:8080/",
          "height": 107
        },
        "id": "a1qTaLvBp7mw",
        "outputId": "4a5287b2-5bb3-4cc3-e59f-855f547ead0f"
      },
      "execution_count": 33,
      "outputs": [
        {
          "output_type": "display_data",
          "data": {
            "text/plain": [
              "<IPython.core.display.HTML object>"
            ],
            "text/html": [
              "\n",
              "     <input type=\"file\" id=\"files-31c23d76-d525-453a-867c-d67c2d856cbd\" name=\"files[]\" multiple disabled\n",
              "        style=\"border:none\" />\n",
              "     <output id=\"result-31c23d76-d525-453a-867c-d67c2d856cbd\">\n",
              "      Upload widget is only available when the cell has been executed in the\n",
              "      current browser session. Please rerun this cell to enable.\n",
              "      </output>\n",
              "      <script>// Copyright 2017 Google LLC\n",
              "//\n",
              "// Licensed under the Apache License, Version 2.0 (the \"License\");\n",
              "// you may not use this file except in compliance with the License.\n",
              "// You may obtain a copy of the License at\n",
              "//\n",
              "//      http://www.apache.org/licenses/LICENSE-2.0\n",
              "//\n",
              "// Unless required by applicable law or agreed to in writing, software\n",
              "// distributed under the License is distributed on an \"AS IS\" BASIS,\n",
              "// WITHOUT WARRANTIES OR CONDITIONS OF ANY KIND, either express or implied.\n",
              "// See the License for the specific language governing permissions and\n",
              "// limitations under the License.\n",
              "\n",
              "/**\n",
              " * @fileoverview Helpers for google.colab Python module.\n",
              " */\n",
              "(function(scope) {\n",
              "function span(text, styleAttributes = {}) {\n",
              "  const element = document.createElement('span');\n",
              "  element.textContent = text;\n",
              "  for (const key of Object.keys(styleAttributes)) {\n",
              "    element.style[key] = styleAttributes[key];\n",
              "  }\n",
              "  return element;\n",
              "}\n",
              "\n",
              "// Max number of bytes which will be uploaded at a time.\n",
              "const MAX_PAYLOAD_SIZE = 100 * 1024;\n",
              "\n",
              "function _uploadFiles(inputId, outputId) {\n",
              "  const steps = uploadFilesStep(inputId, outputId);\n",
              "  const outputElement = document.getElementById(outputId);\n",
              "  // Cache steps on the outputElement to make it available for the next call\n",
              "  // to uploadFilesContinue from Python.\n",
              "  outputElement.steps = steps;\n",
              "\n",
              "  return _uploadFilesContinue(outputId);\n",
              "}\n",
              "\n",
              "// This is roughly an async generator (not supported in the browser yet),\n",
              "// where there are multiple asynchronous steps and the Python side is going\n",
              "// to poll for completion of each step.\n",
              "// This uses a Promise to block the python side on completion of each step,\n",
              "// then passes the result of the previous step as the input to the next step.\n",
              "function _uploadFilesContinue(outputId) {\n",
              "  const outputElement = document.getElementById(outputId);\n",
              "  const steps = outputElement.steps;\n",
              "\n",
              "  const next = steps.next(outputElement.lastPromiseValue);\n",
              "  return Promise.resolve(next.value.promise).then((value) => {\n",
              "    // Cache the last promise value to make it available to the next\n",
              "    // step of the generator.\n",
              "    outputElement.lastPromiseValue = value;\n",
              "    return next.value.response;\n",
              "  });\n",
              "}\n",
              "\n",
              "/**\n",
              " * Generator function which is called between each async step of the upload\n",
              " * process.\n",
              " * @param {string} inputId Element ID of the input file picker element.\n",
              " * @param {string} outputId Element ID of the output display.\n",
              " * @return {!Iterable<!Object>} Iterable of next steps.\n",
              " */\n",
              "function* uploadFilesStep(inputId, outputId) {\n",
              "  const inputElement = document.getElementById(inputId);\n",
              "  inputElement.disabled = false;\n",
              "\n",
              "  const outputElement = document.getElementById(outputId);\n",
              "  outputElement.innerHTML = '';\n",
              "\n",
              "  const pickedPromise = new Promise((resolve) => {\n",
              "    inputElement.addEventListener('change', (e) => {\n",
              "      resolve(e.target.files);\n",
              "    });\n",
              "  });\n",
              "\n",
              "  const cancel = document.createElement('button');\n",
              "  inputElement.parentElement.appendChild(cancel);\n",
              "  cancel.textContent = 'Cancel upload';\n",
              "  const cancelPromise = new Promise((resolve) => {\n",
              "    cancel.onclick = () => {\n",
              "      resolve(null);\n",
              "    };\n",
              "  });\n",
              "\n",
              "  // Wait for the user to pick the files.\n",
              "  const files = yield {\n",
              "    promise: Promise.race([pickedPromise, cancelPromise]),\n",
              "    response: {\n",
              "      action: 'starting',\n",
              "    }\n",
              "  };\n",
              "\n",
              "  cancel.remove();\n",
              "\n",
              "  // Disable the input element since further picks are not allowed.\n",
              "  inputElement.disabled = true;\n",
              "\n",
              "  if (!files) {\n",
              "    return {\n",
              "      response: {\n",
              "        action: 'complete',\n",
              "      }\n",
              "    };\n",
              "  }\n",
              "\n",
              "  for (const file of files) {\n",
              "    const li = document.createElement('li');\n",
              "    li.append(span(file.name, {fontWeight: 'bold'}));\n",
              "    li.append(span(\n",
              "        `(${file.type || 'n/a'}) - ${file.size} bytes, ` +\n",
              "        `last modified: ${\n",
              "            file.lastModifiedDate ? file.lastModifiedDate.toLocaleDateString() :\n",
              "                                    'n/a'} - `));\n",
              "    const percent = span('0% done');\n",
              "    li.appendChild(percent);\n",
              "\n",
              "    outputElement.appendChild(li);\n",
              "\n",
              "    const fileDataPromise = new Promise((resolve) => {\n",
              "      const reader = new FileReader();\n",
              "      reader.onload = (e) => {\n",
              "        resolve(e.target.result);\n",
              "      };\n",
              "      reader.readAsArrayBuffer(file);\n",
              "    });\n",
              "    // Wait for the data to be ready.\n",
              "    let fileData = yield {\n",
              "      promise: fileDataPromise,\n",
              "      response: {\n",
              "        action: 'continue',\n",
              "      }\n",
              "    };\n",
              "\n",
              "    // Use a chunked sending to avoid message size limits. See b/62115660.\n",
              "    let position = 0;\n",
              "    do {\n",
              "      const length = Math.min(fileData.byteLength - position, MAX_PAYLOAD_SIZE);\n",
              "      const chunk = new Uint8Array(fileData, position, length);\n",
              "      position += length;\n",
              "\n",
              "      const base64 = btoa(String.fromCharCode.apply(null, chunk));\n",
              "      yield {\n",
              "        response: {\n",
              "          action: 'append',\n",
              "          file: file.name,\n",
              "          data: base64,\n",
              "        },\n",
              "      };\n",
              "\n",
              "      let percentDone = fileData.byteLength === 0 ?\n",
              "          100 :\n",
              "          Math.round((position / fileData.byteLength) * 100);\n",
              "      percent.textContent = `${percentDone}% done`;\n",
              "\n",
              "    } while (position < fileData.byteLength);\n",
              "  }\n",
              "\n",
              "  // All done.\n",
              "  yield {\n",
              "    response: {\n",
              "      action: 'complete',\n",
              "    }\n",
              "  };\n",
              "}\n",
              "\n",
              "scope.google = scope.google || {};\n",
              "scope.google.colab = scope.google.colab || {};\n",
              "scope.google.colab._files = {\n",
              "  _uploadFiles,\n",
              "  _uploadFilesContinue,\n",
              "};\n",
              "})(self);\n",
              "</script> "
            ]
          },
          "metadata": {}
        },
        {
          "output_type": "stream",
          "name": "stdout",
          "text": [
            "Saving flowers.webp to flowers.webp\n",
            "1/1 [==============================] - 0s 27ms/step\n",
            "4\n"
          ]
        }
      ]
    },
    {
      "cell_type": "code",
      "source": [
        "training_data.class_indices"
      ],
      "metadata": {
        "colab": {
          "base_uri": "https://localhost:8080/"
        },
        "id": "jt1E8Mwq6lna",
        "outputId": "c637f6d6-76ff-41fe-8d25-c733c0bf56f2"
      },
      "execution_count": 30,
      "outputs": [
        {
          "output_type": "execute_result",
          "data": {
            "text/plain": [
              "{'daisy': 0, 'dandelion': 1, 'roses': 2, 'sunflowers': 3, 'tulips': 4}"
            ]
          },
          "metadata": {},
          "execution_count": 30
        }
      ]
    },
    {
      "cell_type": "code",
      "source": [],
      "metadata": {
        "id": "nmHhCA-e6tG3"
      },
      "execution_count": null,
      "outputs": []
    }
  ]
}