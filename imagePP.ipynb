{
  "nbformat": 4,
  "nbformat_minor": 0,
  "metadata": {
    "colab": {
      "provenance": [],
      "gpuType": "T4",
      "authorship_tag": "ABX9TyO/gwSrunvgmZ5A5jhBxY6U",
      "include_colab_link": true
    },
    "kernelspec": {
      "name": "python3",
      "display_name": "Python 3"
    },
    "language_info": {
      "name": "python"
    },
    "accelerator": "GPU"
  },
  "cells": [
    {
      "cell_type": "markdown",
      "metadata": {
        "id": "view-in-github",
        "colab_type": "text"
      },
      "source": [
        "<a href=\"https://colab.research.google.com/github/KaustubhVaidya404/ImagePreprocessing/blob/main/imagePP.ipynb\" target=\"_parent\"><img src=\"https://colab.research.google.com/assets/colab-badge.svg\" alt=\"Open In Colab\"/></a>"
      ]
    },
    {
      "cell_type": "code",
      "execution_count": null,
      "metadata": {
        "id": "lsIgDZWteq1V"
      },
      "outputs": [],
      "source": [
        "import tensorflow as tf"
      ]
    },
    {
      "cell_type": "code",
      "source": [
        "print(tf.__version__)"
      ],
      "metadata": {
        "colab": {
          "base_uri": "https://localhost:8080/"
        },
        "id": "uAhPhe7XfTGz",
        "outputId": "f99687e5-1e06-4ad1-a4d2-d452111863d8"
      },
      "execution_count": null,
      "outputs": [
        {
          "output_type": "stream",
          "name": "stdout",
          "text": [
            "2.13.0\n"
          ]
        }
      ]
    },
    {
      "cell_type": "code",
      "source": [
        "dataset_url = 'http://download.tensorflow.org/example_images/flower_photos.tgz'"
      ],
      "metadata": {
        "id": "yLCqAW3MfaZh"
      },
      "execution_count": null,
      "outputs": []
    },
    {
      "cell_type": "code",
      "source": [
        "from keras.src.utils import dataset_utils\n",
        "zip_data = tf.keras.utils.get_file(\n",
        "    origin = dataset_url,\n",
        "    fname = 'flower_photos.tgz',\n",
        "    extract = True\n",
        ")"
      ],
      "metadata": {
        "colab": {
          "base_uri": "https://localhost:8080/"
        },
        "id": "TGqdy-6OgQba",
        "outputId": "e72ec686-aae7-4e80-fdca-9c8127d3cc46"
      },
      "execution_count": null,
      "outputs": [
        {
          "output_type": "stream",
          "name": "stdout",
          "text": [
            "Downloading data from http://download.tensorflow.org/example_images/flower_photos.tgz\n",
            "228813984/228813984 [==============================] - 11s 0us/step\n"
          ]
        }
      ]
    },
    {
      "cell_type": "code",
      "source": [
        "import os"
      ],
      "metadata": {
        "id": "i1MfOd_ThICM"
      },
      "execution_count": null,
      "outputs": []
    },
    {
      "cell_type": "code",
      "source": [
        "base_dir = os.path.join(os.path.dirname(zip_data), 'flower_photos')"
      ],
      "metadata": {
        "id": "tmVdupSahgIL"
      },
      "execution_count": null,
      "outputs": []
    },
    {
      "cell_type": "code",
      "source": [
        "data_generator = tf.keras.preprocessing.image.ImageDataGenerator(\n",
        "    rescale = 1.0/255.0,\n",
        "    validation_split = 0.2\n",
        ")"
      ],
      "metadata": {
        "id": "nF9Cn0lHiOb0"
      },
      "execution_count": null,
      "outputs": []
    },
    {
      "cell_type": "code",
      "source": [
        "batchsize = 64"
      ],
      "metadata": {
        "id": "roJdEd7qj6hZ"
      },
      "execution_count": null,
      "outputs": []
    },
    {
      "cell_type": "code",
      "source": [
        "training_data = data_generator.flow_from_directory(\n",
        "    base_dir,\n",
        "    target_size = (244,244),\n",
        "    batch_size = batchsize,\n",
        "    subset = 'training'\n",
        ")"
      ],
      "metadata": {
        "colab": {
          "base_uri": "https://localhost:8080/"
        },
        "id": "LZSFU5zVi1Qb",
        "outputId": "589e5e05-09fd-49e9-f98d-f41d2874ea85"
      },
      "execution_count": null,
      "outputs": [
        {
          "output_type": "stream",
          "name": "stdout",
          "text": [
            "Found 2939 images belonging to 5 classes.\n"
          ]
        }
      ]
    },
    {
      "cell_type": "code",
      "source": [
        "testing_data = data_generator.flow_from_directory(\n",
        "    base_dir,\n",
        "    target_size = (244,244),\n",
        "    batch_size = batchsize,\n",
        "    subset = 'validation'\n",
        ")"
      ],
      "metadata": {
        "colab": {
          "base_uri": "https://localhost:8080/"
        },
        "id": "eXLfk_HwkVWC",
        "outputId": "2a3fbbc8-01d7-45db-c093-499e6c9555d4"
      },
      "execution_count": null,
      "outputs": [
        {
          "output_type": "stream",
          "name": "stdout",
          "text": [
            "Found 731 images belonging to 5 classes.\n"
          ]
        }
      ]
    },
    {
      "cell_type": "code",
      "source": [
        "from keras.src.layers.attention.multi_head_attention import activation\n",
        "model = tf.keras.models.Sequential(\n",
        "    [\n",
        "      tf.keras.layers.Conv2D(\n",
        "        64,\n",
        "        (3,3),\n",
        "        activation = 'relu',\n",
        "        input_shape = (244, 244, 3)\n",
        "    ),\n",
        "      tf.keras.layers.MaxPooling2D(2,2),\n",
        "      tf.keras.layers.Conv2D(\n",
        "        64,\n",
        "        (3,3),\n",
        "        activation = 'relu',\n",
        "    ),\n",
        "      tf.keras.layers.MaxPooling2D(2,2),\n",
        "      tf.keras.layers.Conv2D(\n",
        "        64,\n",
        "        (3,3),\n",
        "        activation = 'relu',\n",
        "    ),\n",
        "      tf.keras.layers.MaxPooling2D(2,2),\n",
        "      tf.keras.layers.Flatten(),\n",
        "      tf.keras.layers.Dense(\n",
        "        512,\n",
        "        activation = 'relu'\n",
        "    ),\n",
        "      tf.keras.layers.Dense(\n",
        "          5,\n",
        "          activation = 'softmax'\n",
        "      )\n",
        "    ]\n",
        ")"
      ],
      "metadata": {
        "id": "eFDlcqHtlCNm"
      },
      "execution_count": null,
      "outputs": []
    },
    {
      "cell_type": "code",
      "source": [
        "model.summary()"
      ],
      "metadata": {
        "colab": {
          "base_uri": "https://localhost:8080/"
        },
        "id": "JQT5QMKxoPdl",
        "outputId": "5975e5b3-0c3f-41bd-fdc4-daf857e01330"
      },
      "execution_count": null,
      "outputs": [
        {
          "output_type": "stream",
          "name": "stdout",
          "text": [
            "Model: \"sequential\"\n",
            "_________________________________________________________________\n",
            " Layer (type)                Output Shape              Param #   \n",
            "=================================================================\n",
            " conv2d (Conv2D)             (None, 242, 242, 64)      1792      \n",
            "                                                                 \n",
            " max_pooling2d (MaxPooling2  (None, 121, 121, 64)      0         \n",
            " D)                                                              \n",
            "                                                                 \n",
            " conv2d_1 (Conv2D)           (None, 119, 119, 64)      36928     \n",
            "                                                                 \n",
            " max_pooling2d_1 (MaxPoolin  (None, 59, 59, 64)        0         \n",
            " g2D)                                                            \n",
            "                                                                 \n",
            " conv2d_2 (Conv2D)           (None, 57, 57, 64)        36928     \n",
            "                                                                 \n",
            " max_pooling2d_2 (MaxPoolin  (None, 28, 28, 64)        0         \n",
            " g2D)                                                            \n",
            "                                                                 \n",
            " flatten (Flatten)           (None, 50176)             0         \n",
            "                                                                 \n",
            " dense (Dense)               (None, 512)               25690624  \n",
            "                                                                 \n",
            " dense_1 (Dense)             (None, 5)                 2565      \n",
            "                                                                 \n",
            "=================================================================\n",
            "Total params: 25768837 (98.30 MB)\n",
            "Trainable params: 25768837 (98.30 MB)\n",
            "Non-trainable params: 0 (0.00 Byte)\n",
            "_________________________________________________________________\n"
          ]
        }
      ]
    },
    {
      "cell_type": "code",
      "source": [
        "model.compile(\n",
        "    loss = 'categorical_crossentropy',\n",
        "    optimizer = 'sgd',\n",
        "    metrics = ['accuracy']\n",
        ")"
      ],
      "metadata": {
        "id": "0htp-Yu1pAxQ"
      },
      "execution_count": null,
      "outputs": []
    },
    {
      "cell_type": "code",
      "source": [
        "training_steps = training_data.samples // batchsize\n",
        "testing_steps = testing_data.samples // batchsize"
      ],
      "metadata": {
        "id": "RY633xOKqpFS"
      },
      "execution_count": null,
      "outputs": []
    },
    {
      "cell_type": "code",
      "source": [
        "model.fit(\n",
        "    training_data,\n",
        "    validation_data = testing_data,\n",
        "    epochs = 15,\n",
        "    steps_per_epoch = training_steps,\n",
        "    validation_steps = testing_steps,\n",
        ")"
      ],
      "metadata": {
        "colab": {
          "base_uri": "https://localhost:8080/"
        },
        "id": "QOTSWPNTpnG6",
        "outputId": "3d22b4cb-8e90-4823-c7fd-f1217e938e0e"
      },
      "execution_count": null,
      "outputs": [
        {
          "output_type": "stream",
          "name": "stdout",
          "text": [
            "Epoch 1/15\n",
            "45/45 [==============================] - 32s 428ms/step - loss: 1.5361 - accuracy: 0.3082 - val_loss: 1.4883 - val_accuracy: 0.3097\n",
            "Epoch 2/15\n",
            "45/45 [==============================] - 14s 303ms/step - loss: 1.3823 - accuracy: 0.4010 - val_loss: 1.3302 - val_accuracy: 0.4062\n",
            "Epoch 3/15\n",
            "45/45 [==============================] - 14s 303ms/step - loss: 1.2332 - accuracy: 0.4713 - val_loss: 1.1887 - val_accuracy: 0.4801\n",
            "Epoch 4/15\n",
            "45/45 [==============================] - 14s 304ms/step - loss: 1.1589 - accuracy: 0.5123 - val_loss: 1.1900 - val_accuracy: 0.5000\n",
            "Epoch 5/15\n",
            "45/45 [==============================] - 14s 305ms/step - loss: 1.0767 - accuracy: 0.5579 - val_loss: 1.1491 - val_accuracy: 0.5213\n",
            "Epoch 6/15\n",
            "45/45 [==============================] - 14s 299ms/step - loss: 1.0656 - accuracy: 0.5739 - val_loss: 1.1170 - val_accuracy: 0.5412\n",
            "Epoch 7/15\n",
            "45/45 [==============================] - 14s 307ms/step - loss: 1.0168 - accuracy: 0.5948 - val_loss: 1.0738 - val_accuracy: 0.5710\n",
            "Epoch 8/15\n",
            "45/45 [==============================] - 14s 306ms/step - loss: 0.9784 - accuracy: 0.6205 - val_loss: 1.0800 - val_accuracy: 0.5682\n",
            "Epoch 9/15\n",
            "45/45 [==============================] - 14s 303ms/step - loss: 0.9649 - accuracy: 0.6177 - val_loss: 1.0767 - val_accuracy: 0.5611\n",
            "Epoch 10/15\n",
            "45/45 [==============================] - 14s 307ms/step - loss: 0.9336 - accuracy: 0.6435 - val_loss: 1.0779 - val_accuracy: 0.5781\n",
            "Epoch 11/15\n",
            "45/45 [==============================] - 15s 322ms/step - loss: 0.9146 - accuracy: 0.6529 - val_loss: 1.1027 - val_accuracy: 0.5810\n",
            "Epoch 12/15\n",
            "45/45 [==============================] - 14s 314ms/step - loss: 0.8872 - accuracy: 0.6584 - val_loss: 1.1070 - val_accuracy: 0.5653\n",
            "Epoch 13/15\n",
            "45/45 [==============================] - 16s 352ms/step - loss: 0.9006 - accuracy: 0.6539 - val_loss: 1.0789 - val_accuracy: 0.5795\n",
            "Epoch 14/15\n",
            "45/45 [==============================] - 14s 306ms/step - loss: 0.8443 - accuracy: 0.6824 - val_loss: 1.1336 - val_accuracy: 0.5639\n",
            "Epoch 15/15\n",
            "45/45 [==============================] - 14s 304ms/step - loss: 0.8253 - accuracy: 0.6970 - val_loss: 1.1473 - val_accuracy: 0.5298\n"
          ]
        },
        {
          "output_type": "execute_result",
          "data": {
            "text/plain": [
              "<keras.src.callbacks.History at 0x7e8dea841510>"
            ]
          },
          "metadata": {},
          "execution_count": 18
        }
      ]
    },
    {
      "cell_type": "code",
      "source": [
        "from tensorflow.keras.preprocessing import image\n",
        "import numpy as np\n",
        "from google.colab import files\n",
        "\n",
        "uploaded_files = files.upload()\n",
        "\n",
        "for path in uploaded_files.keys():\n",
        "  input_img = image.load_img(path, target_size = (244, 244))\n",
        "  image_values = image.img_to_array(input_img)\n",
        "  dimention_corrected = np.expand_dims(image_values, axis = 0)\n",
        "  prediction = model.predict(dimention_corrected)\n",
        "  argmax_value = np.argmax(prediction)\n",
        "  print(argmax_value)\n",
        "  if(argmax_value == 0):\n",
        "    print('daisy')\n",
        "  elif(argmax_value == 1):\n",
        "    print('dandelion')\n",
        "  elif(argmax_value == 2):\n",
        "    print('roses')\n",
        "  elif(argmax_value == 2):\n",
        "    print('tulips')\n",
        "  else:\n",
        "    print('Not a flower')"
      ],
      "metadata": {
        "colab": {
          "base_uri": "https://localhost:8080/",
          "height": 55
        },
        "id": "a1qTaLvBp7mw",
        "outputId": "a01ea304-1faa-4c96-ec4d-7215cb16fb10"
      },
      "execution_count": null,
      "outputs": [
        {
          "output_type": "display_data",
          "data": {
            "text/plain": [
              "<IPython.core.display.HTML object>"
            ],
            "text/html": [
              "\n",
              "     <input type=\"file\" id=\"files-292bb78b-7612-45a6-bca9-de22cdf9c12c\" name=\"files[]\" multiple disabled\n",
              "        style=\"border:none\" />\n",
              "     <output id=\"result-292bb78b-7612-45a6-bca9-de22cdf9c12c\">\n",
              "      Upload widget is only available when the cell has been executed in the\n",
              "      current browser session. Please rerun this cell to enable.\n",
              "      </output>\n",
              "      <script>// Copyright 2017 Google LLC\n",
              "//\n",
              "// Licensed under the Apache License, Version 2.0 (the \"License\");\n",
              "// you may not use this file except in compliance with the License.\n",
              "// You may obtain a copy of the License at\n",
              "//\n",
              "//      http://www.apache.org/licenses/LICENSE-2.0\n",
              "//\n",
              "// Unless required by applicable law or agreed to in writing, software\n",
              "// distributed under the License is distributed on an \"AS IS\" BASIS,\n",
              "// WITHOUT WARRANTIES OR CONDITIONS OF ANY KIND, either express or implied.\n",
              "// See the License for the specific language governing permissions and\n",
              "// limitations under the License.\n",
              "\n",
              "/**\n",
              " * @fileoverview Helpers for google.colab Python module.\n",
              " */\n",
              "(function(scope) {\n",
              "function span(text, styleAttributes = {}) {\n",
              "  const element = document.createElement('span');\n",
              "  element.textContent = text;\n",
              "  for (const key of Object.keys(styleAttributes)) {\n",
              "    element.style[key] = styleAttributes[key];\n",
              "  }\n",
              "  return element;\n",
              "}\n",
              "\n",
              "// Max number of bytes which will be uploaded at a time.\n",
              "const MAX_PAYLOAD_SIZE = 100 * 1024;\n",
              "\n",
              "function _uploadFiles(inputId, outputId) {\n",
              "  const steps = uploadFilesStep(inputId, outputId);\n",
              "  const outputElement = document.getElementById(outputId);\n",
              "  // Cache steps on the outputElement to make it available for the next call\n",
              "  // to uploadFilesContinue from Python.\n",
              "  outputElement.steps = steps;\n",
              "\n",
              "  return _uploadFilesContinue(outputId);\n",
              "}\n",
              "\n",
              "// This is roughly an async generator (not supported in the browser yet),\n",
              "// where there are multiple asynchronous steps and the Python side is going\n",
              "// to poll for completion of each step.\n",
              "// This uses a Promise to block the python side on completion of each step,\n",
              "// then passes the result of the previous step as the input to the next step.\n",
              "function _uploadFilesContinue(outputId) {\n",
              "  const outputElement = document.getElementById(outputId);\n",
              "  const steps = outputElement.steps;\n",
              "\n",
              "  const next = steps.next(outputElement.lastPromiseValue);\n",
              "  return Promise.resolve(next.value.promise).then((value) => {\n",
              "    // Cache the last promise value to make it available to the next\n",
              "    // step of the generator.\n",
              "    outputElement.lastPromiseValue = value;\n",
              "    return next.value.response;\n",
              "  });\n",
              "}\n",
              "\n",
              "/**\n",
              " * Generator function which is called between each async step of the upload\n",
              " * process.\n",
              " * @param {string} inputId Element ID of the input file picker element.\n",
              " * @param {string} outputId Element ID of the output display.\n",
              " * @return {!Iterable<!Object>} Iterable of next steps.\n",
              " */\n",
              "function* uploadFilesStep(inputId, outputId) {\n",
              "  const inputElement = document.getElementById(inputId);\n",
              "  inputElement.disabled = false;\n",
              "\n",
              "  const outputElement = document.getElementById(outputId);\n",
              "  outputElement.innerHTML = '';\n",
              "\n",
              "  const pickedPromise = new Promise((resolve) => {\n",
              "    inputElement.addEventListener('change', (e) => {\n",
              "      resolve(e.target.files);\n",
              "    });\n",
              "  });\n",
              "\n",
              "  const cancel = document.createElement('button');\n",
              "  inputElement.parentElement.appendChild(cancel);\n",
              "  cancel.textContent = 'Cancel upload';\n",
              "  const cancelPromise = new Promise((resolve) => {\n",
              "    cancel.onclick = () => {\n",
              "      resolve(null);\n",
              "    };\n",
              "  });\n",
              "\n",
              "  // Wait for the user to pick the files.\n",
              "  const files = yield {\n",
              "    promise: Promise.race([pickedPromise, cancelPromise]),\n",
              "    response: {\n",
              "      action: 'starting',\n",
              "    }\n",
              "  };\n",
              "\n",
              "  cancel.remove();\n",
              "\n",
              "  // Disable the input element since further picks are not allowed.\n",
              "  inputElement.disabled = true;\n",
              "\n",
              "  if (!files) {\n",
              "    return {\n",
              "      response: {\n",
              "        action: 'complete',\n",
              "      }\n",
              "    };\n",
              "  }\n",
              "\n",
              "  for (const file of files) {\n",
              "    const li = document.createElement('li');\n",
              "    li.append(span(file.name, {fontWeight: 'bold'}));\n",
              "    li.append(span(\n",
              "        `(${file.type || 'n/a'}) - ${file.size} bytes, ` +\n",
              "        `last modified: ${\n",
              "            file.lastModifiedDate ? file.lastModifiedDate.toLocaleDateString() :\n",
              "                                    'n/a'} - `));\n",
              "    const percent = span('0% done');\n",
              "    li.appendChild(percent);\n",
              "\n",
              "    outputElement.appendChild(li);\n",
              "\n",
              "    const fileDataPromise = new Promise((resolve) => {\n",
              "      const reader = new FileReader();\n",
              "      reader.onload = (e) => {\n",
              "        resolve(e.target.result);\n",
              "      };\n",
              "      reader.readAsArrayBuffer(file);\n",
              "    });\n",
              "    // Wait for the data to be ready.\n",
              "    let fileData = yield {\n",
              "      promise: fileDataPromise,\n",
              "      response: {\n",
              "        action: 'continue',\n",
              "      }\n",
              "    };\n",
              "\n",
              "    // Use a chunked sending to avoid message size limits. See b/62115660.\n",
              "    let position = 0;\n",
              "    do {\n",
              "      const length = Math.min(fileData.byteLength - position, MAX_PAYLOAD_SIZE);\n",
              "      const chunk = new Uint8Array(fileData, position, length);\n",
              "      position += length;\n",
              "\n",
              "      const base64 = btoa(String.fromCharCode.apply(null, chunk));\n",
              "      yield {\n",
              "        response: {\n",
              "          action: 'append',\n",
              "          file: file.name,\n",
              "          data: base64,\n",
              "        },\n",
              "      };\n",
              "\n",
              "      let percentDone = fileData.byteLength === 0 ?\n",
              "          100 :\n",
              "          Math.round((position / fileData.byteLength) * 100);\n",
              "      percent.textContent = `${percentDone}% done`;\n",
              "\n",
              "    } while (position < fileData.byteLength);\n",
              "  }\n",
              "\n",
              "  // All done.\n",
              "  yield {\n",
              "    response: {\n",
              "      action: 'complete',\n",
              "    }\n",
              "  };\n",
              "}\n",
              "\n",
              "scope.google = scope.google || {};\n",
              "scope.google.colab = scope.google.colab || {};\n",
              "scope.google.colab._files = {\n",
              "  _uploadFiles,\n",
              "  _uploadFilesContinue,\n",
              "};\n",
              "})(self);\n",
              "</script> "
            ]
          },
          "metadata": {}
        }
      ]
    },
    {
      "cell_type": "code",
      "source": [
        "training_data.class_indices"
      ],
      "metadata": {
        "colab": {
          "base_uri": "https://localhost:8080/"
        },
        "id": "jt1E8Mwq6lna",
        "outputId": "16932bb4-9684-4170-e166-f7f53c6c0a2b"
      },
      "execution_count": null,
      "outputs": [
        {
          "output_type": "execute_result",
          "data": {
            "text/plain": [
              "{'daisy': 0, 'dandelion': 1, 'roses': 2, 'sunflowers': 3, 'tulips': 4}"
            ]
          },
          "metadata": {},
          "execution_count": 20
        }
      ]
    }
  ]
}